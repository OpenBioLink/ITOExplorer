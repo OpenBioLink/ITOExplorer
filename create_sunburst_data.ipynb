{
 "cells": [
  {
   "cell_type": "code",
   "execution_count": 1,
   "metadata": {},
   "outputs": [
    {
     "name": "stderr",
     "output_type": "stream",
     "text": [
      "* Owlready2 * Warning: optimized Cython parser module 'owlready2_optimized' is not available, defaulting to slower Python implementation\n"
     ]
    }
   ],
   "source": [
    "from owlready2 import *\n",
    "import rdflib"
   ]
  },
  {
   "cell_type": "code",
   "execution_count": 2,
   "metadata": {},
   "outputs": [],
   "source": [
    "#onto = get_ontology(\"file:///content/ITO.owl\")\n",
    "onto = get_ontology(\"https://github.com/OpenBioLink/ITO/raw/master/ITO.owl\")\n",
    "onto.load()\n",
    "ITO = onto.get_namespace(\"https://ai-strategies.org/ontology/\")\n",
    "EDAM = onto.get_namespace(\"http://edamontology.org/\")"
   ]
  },
  {
   "cell_type": "code",
   "execution_count": null,
   "metadata": {},
   "outputs": [],
   "source": [
    "graph = default_world.as_rdflib_graph()"
   ]
  },
  {
   "cell_type": "code",
   "execution_count": null,
   "metadata": {},
   "outputs": [],
   "source": [
    "import pandas as pd\n",
    "import json\n",
    "def sparql_result_to_df(sparql_result):\n",
    "    # converts SPARQL SELECT results to Pandas dataframe\n",
    "    \n",
    "    cols = sparql_result.bindings[0].keys()\n",
    "\n",
    "    out = []\n",
    "    for row in sparql_result.bindings:\n",
    "        item = []\n",
    "        for c in cols:\n",
    "            item.append(row.get(c, {}))\n",
    "        out.append(item)\n",
    "    return pd.DataFrame(out, columns=cols)"
   ]
  },
  {
   "cell_type": "code",
   "execution_count": null,
   "metadata": {},
   "outputs": [],
   "source": [
    "namespaces ={ 'owl': rdflib.OWL,\n",
    "              'rdfs': rdflib.RDFS,\n",
    "              'edam': 'http://edamontology.org/',\n",
    "              'ito': 'https://ai-strategies.org/ontology/'}"
   ]
  },
  {
   "cell_type": "code",
   "execution_count": null,
   "metadata": {},
   "outputs": [],
   "source": [
    "# Processes\n",
    "result = graph.query(\"\"\"\n",
    "    PREFIX rdfs: <http://www.w3.org/2000/01/rdf-schema#>\n",
    "    PREFIX ito: <https://identifiers.org/ito:>\n",
    "    SELECT DISTINCT ?parent_name ?child_name\n",
    "    WHERE\n",
    "    {\n",
    "        ?child rdfs:subClassOf+ ito:Process .\n",
    "        ?child rdfs:subClassOf ?parent .\n",
    "        ?child rdfs:label ?child_name .\n",
    "        ?parent rdfs:label ?parent_name .\n",
    "        FILTER NOT EXISTS { ?child rdfs:subClassOf+ ito:Benchmarking } .\n",
    "    }\n",
    "\"\"\", initNs = namespaces)\n",
    "df = sparql_result_to_df(result)\n",
    "df = json.loads(df.to_json(orient='split'))[\"data\"]\n",
    "\n",
    "with open(\"sunburst.json\", 'w') as outfile:\n",
    "    json.dump(df, outfile)  "
   ]
  },
  {
   "cell_type": "code",
   "execution_count": null,
   "metadata": {},
   "outputs": [],
   "source": [
    "# Data\n",
    "result = graph.query(\"\"\"\n",
    "    PREFIX rdfs: <http://www.w3.org/2000/01/rdf-schema#>\n",
    "    PREFIX ito: <https://identifiers.org/ito:>\n",
    "    SELECT DISTINCT ?parent_name ?child_name\n",
    "    WHERE\n",
    "    {\n",
    "        ?child rdfs:subClassOf+ edam:data_0006 .\n",
    "        ?child rdfs:subClassOf ?parent .\n",
    "        ?child rdfs:label ?child_name .\n",
    "        ?parent rdfs:label ?parent_name .\n",
    "    }\n",
    "\"\"\", initNs = namespaces)\n",
    "df = sparql_result_to_df(result)\n",
    "df = json.loads(df.to_json(orient='split'))[\"data\"]\n",
    "\n",
    "with open(\"data.json\", 'w') as outfile:\n",
    "    json.dump(df, outfile)  "
   ]
  }
 ],
 "metadata": {
  "interpreter": {
   "hash": "a4ca0a1be38340d2e1b70bc6cc73081324f38c92d6b10994d2eeb96728463324"
  },
  "kernelspec": {
   "display_name": "Python 3.7.9 64-bit",
   "language": "python",
   "name": "python3"
  },
  "language_info": {
   "codemirror_mode": {
    "name": "ipython",
    "version": 3
   },
   "file_extension": ".py",
   "mimetype": "text/x-python",
   "name": "python",
   "nbconvert_exporter": "python",
   "pygments_lexer": "ipython3",
   "version": "3.7.9"
  },
  "orig_nbformat": 4
 },
 "nbformat": 4,
 "nbformat_minor": 2
}
